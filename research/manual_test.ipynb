{
 "cells": [
  {
   "cell_type": "code",
   "execution_count": 1,
   "metadata": {},
   "outputs": [
    {
     "data": {
      "text/plain": [
       "'dOKQeqGNJwY'"
      ]
     },
     "execution_count": 1,
     "metadata": {},
     "output_type": "execute_result"
    }
   ],
   "source": [
    "URL1 = \"https://www.youtube.com/watch?v=dOKQeqGNJwY\"\n",
    "URL1.split(\"=\")[-1]"
   ]
  },
  {
   "cell_type": "code",
   "execution_count": 2,
   "metadata": {},
   "outputs": [
    {
     "data": {
      "text/plain": [
       "'dOKQeqGNJwY'"
      ]
     },
     "execution_count": 2,
     "metadata": {},
     "output_type": "execute_result"
    }
   ],
   "source": [
    "URL2 = \"https://youtu.be/dOKQeqGNJwY\"\n",
    "URL2.split(\"/\")[-1]"
   ]
  },
  {
   "cell_type": "code",
   "execution_count": 3,
   "metadata": {},
   "outputs": [
    {
     "data": {
      "text/plain": [
       "'dOKQeqGNJwY'"
      ]
     },
     "execution_count": 3,
     "metadata": {},
     "output_type": "execute_result"
    }
   ],
   "source": [
    "URL3 = \"https://youtu.be/dOKQeqGNJwY?t=5\"\n",
    "URL3.split(\"=\")[0].split(\"/\")[-1][:-2]"
   ]
  },
  {
   "cell_type": "code",
   "execution_count": 4,
   "metadata": {},
   "outputs": [
    {
     "data": {
      "text/plain": [
       "'50'"
      ]
     },
     "execution_count": 4,
     "metadata": {},
     "output_type": "execute_result"
    }
   ],
   "source": [
    "URL4 = \"https://www.youtube.com/watch?v=dOKQeqGNJwY&t=50s\"\n",
    "URL4.split(\"=\")[-1][:-1]"
   ]
  },
  {
   "cell_type": "code",
   "execution_count": 5,
   "metadata": {},
   "outputs": [],
   "source": [
    "from IPYNBrenderer.youtube import render_Youtube_video"
   ]
  },
  {
   "cell_type": "code",
   "execution_count": 6,
   "metadata": {},
   "outputs": [
    {
     "name": "stdout",
     "output_type": "stream",
     "text": [
      "Case 1\n",
      "[2022-10-18 18:41:33,955: INFO : youtube]: Video Starts at : 50\n",
      "[2022-10-18 18:41:33,956: INFO : youtube]: embed URL: https://www.youtube.com/embed/dOKQeqGNJwY?start=50\n"
     ]
    },
    {
     "data": {
      "text/html": [
       "<iframe\n",
       "            width=\"780\" height=\"600\"\n",
       "            src=\"https://www.youtube.com/embed/dOKQeqGNJwY?start=50\"\n",
       "            title=\"YouTube video player\"\n",
       "            frameborder=\"0\"\n",
       "            allow=\"accelerometer;\n",
       "            autoplay; clipboard-write;\n",
       "            encrypted-media; gyroscope;\n",
       "            picture-in-picture\" allowfullscreen>\n",
       "            </iframe>\n",
       "            "
      ],
      "text/plain": [
       "<IPython.core.display.HTML object>"
      ]
     },
     "metadata": {},
     "output_type": "display_data"
    },
    {
     "data": {
      "text/plain": [
       "'success'"
      ]
     },
     "execution_count": 6,
     "metadata": {},
     "output_type": "execute_result"
    }
   ],
   "source": [
    "render_Youtube_video(URL4)"
   ]
  },
  {
   "cell_type": "code",
   "execution_count": 10,
   "metadata": {},
   "outputs": [],
   "source": [
    "from IPYNBrenderer.custom_exception import InvalidURLException\n",
    "from IPYNBrenderer.logger import logger\n",
    "from py_youtube import Data\n",
    "\n",
    "\n",
    "\n",
    "def get_time_info(URL: str) -> int:\n",
    "    def _verify_vid_id_len(vid_id, __expected_len=11):\n",
    "        len_of_vid_id = len(vid_id)\n",
    "        if len_of_vid_id != __expected_len:\n",
    "            raise InvalidURLException(\n",
    "                f\"Invalid video ID with length : {len_of_vid_id}, expected : {__expected_len}\"\n",
    "            )\n",
    "\n",
    "    try:\n",
    "        split_val = URL.split(\"=\")\n",
    "        if len(split_val) > 3:\n",
    "            raise InvalidURLException\n",
    "        if \"watch\" in URL:\n",
    "            if \"&t\" in URL:\n",
    "                print(\"Case 1\")\n",
    "                vid_id, time = split_val[-2][:-2], int(split_val[-1][:-1])\n",
    "                _verify_vid_id_len(vid_id)\n",
    "                logger.info(f\"Video Starts at : {time}\")\n",
    "                return time\n",
    "            else:\n",
    "                print(\"Case 2\")\n",
    "                vid_id, time = split_val[-1], 0\n",
    "                _verify_vid_id_len(vid_id)\n",
    "                logger.info(f\"Video Starts at : {time}\")\n",
    "                return time\n",
    "\n",
    "        else:\n",
    "            if (\"=\" in URL) and (\"?t\" in URL):\n",
    "                print(\"Case 3\")\n",
    "                vid_id, time = split_val[0].split(\"/\")[-1][:-2], int(split_val[-1])\n",
    "                _verify_vid_id_len(vid_id)\n",
    "                logger.info(f\"Video Starts at : {time}\")\n",
    "                return time\n",
    "            else:\n",
    "                print(\"Case 4\")\n",
    "                vid_id, time = URL.split(\"/\")[-1], 0\n",
    "                _verify_vid_id_len(vid_id)\n",
    "                logger.info(f\"Video Starts at : {time}\")\n",
    "                return time\n",
    "\n",
    "    except Exception:\n",
    "        raise InvalidURLException\n",
    "\n",
    "\n",
    "\n",
    "def render_Youtube_video(URL: str, width: int = 780, height: int = 600) -> str:\n",
    "    try:\n",
    "        if URL is None:\n",
    "            raise InvalidURLException(\"URL cannot be None\")\n",
    "        data = Data(URL).data()\n",
    "        if data[\"publishdate\"] is not None:\n",
    "            time = get_time_info(URL)\n",
    "            vid_ID = data[\"id\"]\n",
    "            embed_URL = f\"https://www.youtube.com/embed/{vid_ID}?start={time}\"\n",
    "            logger.info(f\"embed URL: {embed_URL}\")\n",
    "            iframe = f\"\"\"<iframe\n",
    "            width=\"{width}\" height=\"{height}\"\n",
    "            src=\"{embed_URL}\"\n",
    "            title=\"YouTube video player\"\n",
    "            frameborder=\"0\"\n",
    "            allow=\"accelerometer;\n",
    "            autoplay; clipboard-write;\n",
    "            encrypted-media; gyroscope;\n",
    "            picture-in-picture\" allowfullscreen>\n",
    "            </iframe>\n",
    "            \"\"\"\n",
    "            display.display(display.HTML(iframe))\n",
    "            return \"success\"\n",
    "        else:\n",
    "            raise InvalidURLException\n",
    "    except Exception as e:\n",
    "        raise e\n"
   ]
  },
  {
   "cell_type": "code",
   "execution_count": 11,
   "metadata": {},
   "outputs": [
    {
     "ename": "AttributeError",
     "evalue": "'InvalidURLException' object has no attribute 'message'",
     "output_type": "error",
     "traceback": [
      "\u001b[1;31m---------------------------------------------------------------------------\u001b[0m",
      "\u001b[1;31mAttributeError\u001b[0m                            Traceback (most recent call last)",
      "Cell \u001b[1;32mIn [10], line 18\u001b[0m, in \u001b[0;36mget_time_info\u001b[1;34m(URL)\u001b[0m\n\u001b[0;32m     17\u001b[0m \u001b[39mif\u001b[39;00m \u001b[39mlen\u001b[39m(split_val) \u001b[39m>\u001b[39m \u001b[39m3\u001b[39m:\n\u001b[1;32m---> 18\u001b[0m     \u001b[39mraise\u001b[39;00m InvalidURLException\n\u001b[0;32m     19\u001b[0m \u001b[39mif\u001b[39;00m \u001b[39m\"\u001b[39m\u001b[39mwatch\u001b[39m\u001b[39m\"\u001b[39m \u001b[39min\u001b[39;00m URL:\n",
      "File \u001b[1;32mE:\\Projects\\Data_Science_Projects_iN\\Assignment\\IPYNBrender\\src\\IPYNBrenderer\\custom_exception.py:3\u001b[0m, in \u001b[0;36mInvalidURLException.__init__\u001b[1;34m(self, message)\u001b[0m\n\u001b[0;32m      2\u001b[0m \u001b[39mdef\u001b[39;00m \u001b[39m__init__\u001b[39m(\u001b[39mself\u001b[39m, message:\u001b[39mstr\u001b[39m \u001b[39m=\u001b[39m \u001b[39m\"\u001b[39m\u001b[39mURL is not a valid \u001b[39m\u001b[39m\"\u001b[39m):\n\u001b[1;32m----> 3\u001b[0m     \u001b[39mself\u001b[39m\u001b[39m.\u001b[39mmessage \u001b[39m=\u001b[39m message\n\u001b[0;32m      4\u001b[0m     \u001b[39msuper\u001b[39m()\u001b[39m.\u001b[39m\u001b[39m__init__\u001b[39m(\u001b[39mself\u001b[39m\u001b[39m.\u001b[39mmessage)\n",
      "\u001b[1;31mAttributeError\u001b[0m: 'InvalidURLException' object has no attribute 'message'",
      "\nDuring handling of the above exception, another exception occurred:\n",
      "\u001b[1;31mAttributeError\u001b[0m                            Traceback (most recent call last)",
      "Cell \u001b[1;32mIn [11], line 1\u001b[0m\n\u001b[1;32m----> 1\u001b[0m get_time_info(\u001b[39m\"\u001b[39;49m\u001b[39mhttps://www.youtube.com/watch?v==dOKQeqGNJwY&t=2s\u001b[39;49m\u001b[39m\"\u001b[39;49m)\n",
      "Cell \u001b[1;32mIn [10], line 48\u001b[0m, in \u001b[0;36mget_time_info\u001b[1;34m(URL)\u001b[0m\n\u001b[0;32m     45\u001b[0m             \u001b[39mreturn\u001b[39;00m time\n\u001b[0;32m     47\u001b[0m \u001b[39mexcept\u001b[39;00m \u001b[39mException\u001b[39;00m:\n\u001b[1;32m---> 48\u001b[0m     \u001b[39mraise\u001b[39;00m InvalidURLException\n",
      "File \u001b[1;32mE:\\Projects\\Data_Science_Projects_iN\\Assignment\\IPYNBrender\\src\\IPYNBrenderer\\custom_exception.py:3\u001b[0m, in \u001b[0;36mInvalidURLException.__init__\u001b[1;34m(self, message)\u001b[0m\n\u001b[0;32m      2\u001b[0m \u001b[39mdef\u001b[39;00m \u001b[39m__init__\u001b[39m(\u001b[39mself\u001b[39m, message:\u001b[39mstr\u001b[39m \u001b[39m=\u001b[39m \u001b[39m\"\u001b[39m\u001b[39mURL is not a valid \u001b[39m\u001b[39m\"\u001b[39m):\n\u001b[1;32m----> 3\u001b[0m     \u001b[39mself\u001b[39m\u001b[39m.\u001b[39mmessage \u001b[39m=\u001b[39m message\n\u001b[0;32m      4\u001b[0m     \u001b[39msuper\u001b[39m()\u001b[39m.\u001b[39m\u001b[39m__init__\u001b[39m(\u001b[39mself\u001b[39m\u001b[39m.\u001b[39mmessage)\n",
      "\u001b[1;31mAttributeError\u001b[0m: 'InvalidURLException' object has no attribute 'message'"
     ]
    }
   ],
   "source": [
    "get_time_info(\"https://www.youtube.com/watch?v==dOKQeqGNJwY&t=2s\")"
   ]
  },
  {
   "cell_type": "code",
   "execution_count": null,
   "metadata": {},
   "outputs": [],
   "source": []
  }
 ],
 "metadata": {
  "kernelspec": {
   "display_name": "Python 3.8.13 (conda)",
   "language": "python",
   "name": "python3"
  },
  "language_info": {
   "codemirror_mode": {
    "name": "ipython",
    "version": 3
   },
   "file_extension": ".py",
   "mimetype": "text/x-python",
   "name": "python",
   "nbconvert_exporter": "python",
   "pygments_lexer": "ipython3",
   "version": "3.8.13"
  },
  "orig_nbformat": 4,
  "vscode": {
   "interpreter": {
    "hash": "052abfcf4de54dae5405d63854352a4865a4488aadf2fdbdff60f1748a68e7d1"
   }
  }
 },
 "nbformat": 4,
 "nbformat_minor": 2
}
