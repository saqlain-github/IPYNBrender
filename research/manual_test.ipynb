{
 "cells": [
  {
   "cell_type": "code",
   "execution_count": null,
   "metadata": {},
   "outputs": [],
   "source": [
    "URL1 = \"https://www.youtube.com/watch?v=dOKQeqGNJwY\"\n",
    "URL1.split(\"=\")[-1]"
   ]
  },
  {
   "cell_type": "code",
   "execution_count": null,
   "metadata": {},
   "outputs": [],
   "source": [
    "URL2 = \"https://youtu.be/dOKQeqGNJwY\"\n",
    "URL2.split(\"/\")[-1]"
   ]
  },
  {
   "cell_type": "code",
   "execution_count": null,
   "metadata": {},
   "outputs": [],
   "source": [
    "URL3 = \"https://youtu.be/dOKQeqGNJwY?t=5\"\n",
    "URL3.split(\"=\")[0].split(\"/\")[-1][:-2]"
   ]
  },
  {
   "cell_type": "code",
   "execution_count": null,
   "metadata": {},
   "outputs": [],
   "source": [
    "URL4 = \"https://www.youtube.com/watch?v=dOKQeqGNJwY&t=50s\"\n",
    "URL4.split(\"=\")[-1][:-1]"
   ]
  },
  {
   "cell_type": "code",
   "execution_count": null,
   "metadata": {},
   "outputs": [],
   "source": [
    "from IPYNBrenderer.youtube import render_Youtube_video"
   ]
  },
  {
   "cell_type": "code",
   "execution_count": null,
   "metadata": {},
   "outputs": [],
   "source": [
    "render_Youtube_video(URL4)"
   ]
  },
  {
   "cell_type": "code",
   "execution_count": null,
   "metadata": {},
   "outputs": [],
   "source": [
    "from IPYNBrenderer.custom_exception import InvalidURLException\n",
    "from IPYNBrenderer.logger import logger\n",
    "from py_youtube import Data\n",
    "\n",
    "\n",
    "\n",
    "def get_time_info(URL: str) -> int:\n",
    "    def _verify_vid_id_len(vid_id, __expected_len=11):\n",
    "        len_of_vid_id = len(vid_id)\n",
    "        if len_of_vid_id != __expected_len:\n",
    "            raise InvalidURLException(\n",
    "                f\"Invalid video ID with length : {len_of_vid_id}, expected : {__expected_len}\"\n",
    "            )\n",
    "\n",
    "    try:\n",
    "        split_val = URL.split(\"=\")\n",
    "        if len(split_val) > 3:\n",
    "            raise InvalidURLException\n",
    "        if \"watch\" in URL:\n",
    "            if \"&t\" in URL:\n",
    "                print(\"Case 1\")\n",
    "                vid_id, time = split_val[-2][:-2], int(split_val[-1][:-1])\n",
    "                _verify_vid_id_len(vid_id)\n",
    "                logger.info(f\"Video Starts at : {time}\")\n",
    "                return time\n",
    "            else:\n",
    "                print(\"Case 2\")\n",
    "                vid_id, time = split_val[-1], 0\n",
    "                _verify_vid_id_len(vid_id)\n",
    "                logger.info(f\"Video Starts at : {time}\")\n",
    "                return time\n",
    "\n",
    "        else:\n",
    "            if (\"=\" in URL) and (\"?t\" in URL):\n",
    "                print(\"Case 3\")\n",
    "                vid_id, time = split_val[0].split(\"/\")[-1][:-2], int(split_val[-1])\n",
    "                _verify_vid_id_len(vid_id)\n",
    "                logger.info(f\"Video Starts at : {time}\")\n",
    "                return time\n",
    "            else:\n",
    "                print(\"Case 4\")\n",
    "                vid_id, time = URL.split(\"/\")[-1], 0\n",
    "                _verify_vid_id_len(vid_id)\n",
    "                logger.info(f\"Video Starts at : {time}\")\n",
    "                return time\n",
    "\n",
    "    except Exception:\n",
    "        raise InvalidURLException\n",
    "\n",
    "\n",
    "\n",
    "def render_Youtube_video(URL: str, width: int = 780, height: int = 600) -> str:\n",
    "    try:\n",
    "        if URL is None:\n",
    "            raise InvalidURLException(\"URL cannot be None\")\n",
    "        data = Data(URL).data()\n",
    "        if data[\"publishdate\"] is not None:\n",
    "            time = get_time_info(URL)\n",
    "            vid_ID = data[\"id\"]\n",
    "            embed_URL = f\"https://www.youtube.com/embed/{vid_ID}?start={time}\"\n",
    "            logger.info(f\"embed URL: {embed_URL}\")\n",
    "            iframe = f\"\"\"<iframe\n",
    "            width=\"{width}\" height=\"{height}\"\n",
    "            src=\"{embed_URL}\"\n",
    "            title=\"YouTube video player\"\n",
    "            frameborder=\"0\"\n",
    "            allow=\"accelerometer;\n",
    "            autoplay; clipboard-write;\n",
    "            encrypted-media; gyroscope;\n",
    "            picture-in-picture\" allowfullscreen>\n",
    "            </iframe>\n",
    "            \"\"\"\n",
    "            display.display(display.HTML(iframe))\n",
    "            return \"success\"\n",
    "        else:\n",
    "            raise InvalidURLException\n",
    "    except Exception as e:\n",
    "        raise e\n"
   ]
  },
  {
   "cell_type": "code",
   "execution_count": null,
   "metadata": {},
   "outputs": [],
   "source": [
    "get_time_info(\"https://www.youtube.com/watch?v==dOKQeqGNJwY&t=2s\")"
   ]
  },
  {
   "cell_type": "code",
   "execution_count": 1,
   "metadata": {},
   "outputs": [],
   "source": [
    "from IPYNBrenderer.site import render_site, is_valid\n",
    "from IPYNBrenderer.custom_exception import InvalidURLException\n"
   ]
  },
  {
   "cell_type": "code",
   "execution_count": 3,
   "metadata": {},
   "outputs": [
    {
     "data": {
      "text/html": [
       "\n",
       "        <iframe\n",
       "            width=\"100%\"\n",
       "            height=\"600\"\n",
       "            src=\"https://pytorch.org/\"\n",
       "            frameborder=\"0\"\n",
       "            allowfullscreen\n",
       "            \n",
       "        ></iframe>\n",
       "        "
      ],
      "text/plain": [
       "<IPython.lib.display.IFrame at 0x1e765210460>"
      ]
     },
     "metadata": {},
     "output_type": "display_data"
    },
    {
     "data": {
      "text/plain": [
       "'Success'"
      ]
     },
     "execution_count": 3,
     "metadata": {},
     "output_type": "execute_result"
    }
   ],
   "source": [
    "URL = \"https://pytorch.org/\"\n",
    "render_site(URL)"
   ]
  },
  {
   "cell_type": "code",
   "execution_count": null,
   "metadata": {},
   "outputs": [],
   "source": []
  }
 ],
 "metadata": {
  "kernelspec": {
   "display_name": "Python 3.8.13 (conda)",
   "language": "python",
   "name": "python3"
  },
  "language_info": {
   "codemirror_mode": {
    "name": "ipython",
    "version": 3
   },
   "file_extension": ".py",
   "mimetype": "text/x-python",
   "name": "python",
   "nbconvert_exporter": "python",
   "pygments_lexer": "ipython3",
   "version": "3.8.13"
  },
  "orig_nbformat": 4,
  "vscode": {
   "interpreter": {
    "hash": "052abfcf4de54dae5405d63854352a4865a4488aadf2fdbdff60f1748a68e7d1"
   }
  }
 },
 "nbformat": 4,
 "nbformat_minor": 2
}
